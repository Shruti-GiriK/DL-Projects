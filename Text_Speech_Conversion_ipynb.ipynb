{
  "nbformat": 4,
  "nbformat_minor": 0,
  "metadata": {
    "colab": {
      "provenance": [],
      "authorship_tag": "ABX9TyNe8uOkIFZZvPFmSTFcD2+1",
      "include_colab_link": true
    },
    "kernelspec": {
      "name": "python3",
      "display_name": "Python 3"
    },
    "language_info": {
      "name": "python"
    }
  },
  "cells": [
    {
      "cell_type": "markdown",
      "metadata": {
        "id": "view-in-github",
        "colab_type": "text"
      },
      "source": [
        "<a href=\"https://colab.research.google.com/github/Shruti-GiriK/DL-Projects/blob/main/Text_Speech_Conversion_ipynb.ipynb\" target=\"_parent\"><img src=\"https://colab.research.google.com/assets/colab-badge.svg\" alt=\"Open In Colab\"/></a>"
      ]
    },
    {
      "cell_type": "markdown",
      "source": [
        "# **Text-Voice Conversion**"
      ],
      "metadata": {
        "id": "xveqdSMaDxHy"
      }
    },
    {
      "cell_type": "code",
      "source": [
        "pip install gTTs"
      ],
      "metadata": {
        "colab": {
          "base_uri": "https://localhost:8080/"
        },
        "id": "5lZz83OEDVdF",
        "outputId": "ec840ff5-868d-4682-83b2-4686a243874f"
      },
      "execution_count": null,
      "outputs": [
        {
          "output_type": "stream",
          "name": "stdout",
          "text": [
            "Collecting gTTs\n",
            "  Downloading gTTS-2.5.4-py3-none-any.whl.metadata (4.1 kB)\n",
            "Requirement already satisfied: requests<3,>=2.27 in /usr/local/lib/python3.11/dist-packages (from gTTs) (2.32.3)\n",
            "Collecting click<8.2,>=7.1 (from gTTs)\n",
            "  Downloading click-8.1.8-py3-none-any.whl.metadata (2.3 kB)\n",
            "Requirement already satisfied: charset-normalizer<4,>=2 in /usr/local/lib/python3.11/dist-packages (from requests<3,>=2.27->gTTs) (3.4.2)\n",
            "Requirement already satisfied: idna<4,>=2.5 in /usr/local/lib/python3.11/dist-packages (from requests<3,>=2.27->gTTs) (3.10)\n",
            "Requirement already satisfied: urllib3<3,>=1.21.1 in /usr/local/lib/python3.11/dist-packages (from requests<3,>=2.27->gTTs) (2.4.0)\n",
            "Requirement already satisfied: certifi>=2017.4.17 in /usr/local/lib/python3.11/dist-packages (from requests<3,>=2.27->gTTs) (2025.4.26)\n",
            "Downloading gTTS-2.5.4-py3-none-any.whl (29 kB)\n",
            "Downloading click-8.1.8-py3-none-any.whl (98 kB)\n",
            "\u001b[2K   \u001b[90m━━━━━━━━━━━━━━━━━━━━━━━━━━━━━━━━━━━━━━━━\u001b[0m \u001b[32m98.2/98.2 kB\u001b[0m \u001b[31m3.0 MB/s\u001b[0m eta \u001b[36m0:00:00\u001b[0m\n",
            "\u001b[?25hInstalling collected packages: click, gTTs\n",
            "  Attempting uninstall: click\n",
            "    Found existing installation: click 8.2.1\n",
            "    Uninstalling click-8.2.1:\n",
            "      Successfully uninstalled click-8.2.1\n",
            "Successfully installed click-8.1.8 gTTs-2.5.4\n"
          ]
        }
      ]
    },
    {
      "cell_type": "markdown",
      "source": [
        "# **Using gtts - Google Text to Speech Translator**"
      ],
      "metadata": {
        "id": "-MNRm8QbD2XR"
      }
    },
    {
      "cell_type": "code",
      "source": [
        "import pandas as pd\n",
        "from gtts import gTTS\n",
        "import os"
      ],
      "metadata": {
        "id": "3Fx-ZOO3DqMD"
      },
      "execution_count": null,
      "outputs": []
    },
    {
      "cell_type": "code",
      "source": [
        "text='Hi good morning'\n",
        "language='en' #Language input is English"
      ],
      "metadata": {
        "id": "io9MfNNGBugQ"
      },
      "execution_count": null,
      "outputs": []
    },
    {
      "cell_type": "code",
      "source": [
        "obj=gTTS(text=text,lang=language,slow=False)"
      ],
      "metadata": {
        "id": "bpqIjdTBEDE5"
      },
      "execution_count": null,
      "outputs": []
    },
    {
      "cell_type": "markdown",
      "source": [
        "Saving the model as an mp3 audio file"
      ],
      "metadata": {
        "id": "T67BEVGIEun9"
      }
    },
    {
      "cell_type": "code",
      "source": [
        "obj.save(\"first.mp3\")"
      ],
      "metadata": {
        "id": "6Tj1l35-EkDF"
      },
      "execution_count": null,
      "outputs": []
    },
    {
      "cell_type": "markdown",
      "source": [
        "# **Converting Speech to text**"
      ],
      "metadata": {
        "id": "4VSIpD3dGnCq"
      }
    },
    {
      "cell_type": "code",
      "source": [
        "pip install speechrecognition"
      ],
      "metadata": {
        "colab": {
          "base_uri": "https://localhost:8080/"
        },
        "id": "1ybVijwPFF_c",
        "outputId": "589c886b-9f94-4455-f1ab-d5be6d0381f1"
      },
      "execution_count": null,
      "outputs": [
        {
          "output_type": "stream",
          "name": "stdout",
          "text": [
            "Collecting speechrecognition\n",
            "  Downloading speechrecognition-3.14.3-py3-none-any.whl.metadata (30 kB)\n",
            "Requirement already satisfied: typing-extensions in /usr/local/lib/python3.11/dist-packages (from speechrecognition) (4.14.0)\n",
            "Downloading speechrecognition-3.14.3-py3-none-any.whl (32.9 MB)\n",
            "\u001b[2K   \u001b[90m━━━━━━━━━━━━━━━━━━━━━━━━━━━━━━━━━━━━━━━━\u001b[0m \u001b[32m32.9/32.9 MB\u001b[0m \u001b[31m31.5 MB/s\u001b[0m eta \u001b[36m0:00:00\u001b[0m\n",
            "\u001b[?25hInstalling collected packages: speechrecognition\n",
            "Successfully installed speechrecognition-3.14.3\n"
          ]
        }
      ]
    },
    {
      "cell_type": "code",
      "source": [
        "pip install pyttsx3"
      ],
      "metadata": {
        "colab": {
          "base_uri": "https://localhost:8080/"
        },
        "id": "S5UQUlG2JgvQ",
        "outputId": "c64e5416-f409-45d4-bdbb-551d2051da8e"
      },
      "execution_count": null,
      "outputs": [
        {
          "output_type": "stream",
          "name": "stdout",
          "text": [
            "Collecting pyttsx3\n",
            "  Downloading pyttsx3-2.98-py3-none-any.whl.metadata (3.8 kB)\n",
            "Downloading pyttsx3-2.98-py3-none-any.whl (34 kB)\n",
            "Installing collected packages: pyttsx3\n",
            "Successfully installed pyttsx3-2.98\n"
          ]
        }
      ]
    },
    {
      "cell_type": "code",
      "source": [
        "import speech_recognition as sr\n",
        "import pyttsx3\n",
        "from pydub import AudioSegment\n",
        "\n",
        "\n",
        "audio = AudioSegment.from_mp3(\"/content/first.mp3\")\n",
        "audio.export(\"/content/first.wav\", format=\"wav\")\n",
        "\n",
        "\n",
        "r = sr.Recognizer()\n",
        "\n",
        "\n",
        "with sr.AudioFile(\"/content/first.wav\") as source:\n",
        "    audio_data = r.record(source)\n",
        "\n",
        "\n",
        "try:\n",
        "    mytext = r.recognize_google(audio_data)\n",
        "    mytext = mytext.lower()\n",
        "    print('Did you say:', mytext)\n",
        "except sr.UnknownValueError:\n",
        "    print(\"Google Speech Recognition could not understand audio\")\n",
        "except sr.RequestError as e:\n",
        "    print(\"Could not request results from Google Speech Recognition service; {0}\".format(e))\n"
      ],
      "metadata": {
        "colab": {
          "base_uri": "https://localhost:8080/"
        },
        "id": "8l8qA-H9NbLn",
        "outputId": "b5c75781-b5eb-422a-b44b-4c6790f0b55c"
      },
      "execution_count": null,
      "outputs": [
        {
          "output_type": "stream",
          "name": "stdout",
          "text": [
            "Did you say: hi good morning\n"
          ]
        }
      ]
    },
    {
      "cell_type": "markdown",
      "source": [
        "# **Example 2 :Text to Speech and Speech to Text**"
      ],
      "metadata": {
        "id": "peugwFDaRqhz"
      }
    },
    {
      "cell_type": "code",
      "source": [
        "text2='Hello Hope you have a nice day'\n",
        "lang='en'\n",
        "myobj=gTTS(text=text2,lang=lang,slow=False)\n",
        "myobj.save('text.mp3')"
      ],
      "metadata": {
        "id": "4khSaAj8O5ev"
      },
      "execution_count": null,
      "outputs": []
    },
    {
      "cell_type": "code",
      "source": [
        "audio2=AudioSegment.from_mp3('/content/text.mp3')\n",
        "audio2.export('/content/text.wav',format=\"wav\")"
      ],
      "metadata": {
        "colab": {
          "base_uri": "https://localhost:8080/"
        },
        "id": "xGlH1R93Q_kG",
        "outputId": "a1fd6735-22d4-471f-efd4-0c88f493888d"
      },
      "execution_count": null,
      "outputs": [
        {
          "output_type": "execute_result",
          "data": {
            "text/plain": [
              "<_io.BufferedRandom name='/content/text.wav'>"
            ]
          },
          "metadata": {},
          "execution_count": 33
        }
      ]
    },
    {
      "cell_type": "code",
      "source": [
        "r=sr.Recognizer()\n",
        "\n",
        "with sr.AudioFile('/content/text.wav') as source:\n",
        "  audio_data=r.record(source)\n",
        "\n",
        "try:\n",
        "  mytext=r.recognize_google(audio_data)\n",
        "  mytext=mytext.lower()\n",
        "  print('I said',mytext)\n",
        "except sr.RequestError as e:\n",
        "  print('There is Request Error found {0}',format(e))\n",
        "except UnknownValueError:\n",
        "  print('An UnknownError is Raised')"
      ],
      "metadata": {
        "colab": {
          "base_uri": "https://localhost:8080/"
        },
        "id": "kzVQY5GESQI9",
        "outputId": "6d735a1b-8bee-4d32-8786-65bfc9d5e03c"
      },
      "execution_count": null,
      "outputs": [
        {
          "output_type": "stream",
          "name": "stdout",
          "text": [
            "I said hello hope you have a nice day\n"
          ]
        }
      ]
    },
    {
      "cell_type": "code",
      "source": [],
      "metadata": {
        "id": "jsmUIK9yTy8s"
      },
      "execution_count": null,
      "outputs": []
    }
  ]
}